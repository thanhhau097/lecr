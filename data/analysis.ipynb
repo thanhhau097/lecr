{
 "cells": [
  {
   "cell_type": "code",
   "execution_count": null,
   "id": "351a840b-d9c8-4378-a551-94570501f6c7",
   "metadata": {},
   "outputs": [],
   "source": [
    "# !pip3 install pyspellchecker\n",
    "# !pip install -U textblob"
   ]
  },
  {
   "cell_type": "code",
   "execution_count": null,
   "id": "df447740-8b61-4388-a78b-a0011d9e1bfb",
   "metadata": {},
   "outputs": [],
   "source": [
    "import os\n",
    "\n",
    "import pandas as pd"
   ]
  },
  {
   "cell_type": "code",
   "execution_count": null,
   "id": "305685cb-13e8-4cb9-b408-4f102714dcae",
   "metadata": {},
   "outputs": [],
   "source": [
    "topics = pd.read_csv('topics.csv')\n",
    "content = pd.read_csv('content.csv')\n",
    "correlations = pd.read_csv('correlations.csv')"
   ]
  },
  {
   "cell_type": "code",
   "execution_count": null,
   "id": "35f2b22e-f863-4ec5-ac7a-d31547abde58",
   "metadata": {},
   "outputs": [],
   "source": [
    "# Fillna titles\n",
    "topics['title'].fillna(\"\", inplace = True)\n",
    "content['title'].fillna(\"\", inplace = True)\n",
    "# Fillna descriptions\n",
    "topics['description'].fillna(\"\", inplace = True)\n",
    "content['description'].fillna(\"\", inplace = True)\n",
    "# Sort by title length to make inference faster\n",
    "topics['length'] = topics['title'].apply(lambda x: len(x))\n",
    "content['length'] = content['title'].apply(lambda x: len(x))\n",
    "topics.sort_values('length', inplace = True)\n",
    "content.sort_values('length', inplace = True)"
   ]
  },
  {
   "cell_type": "code",
   "execution_count": null,
   "id": "dff51858-88ae-4bde-947b-67acb436d30a",
   "metadata": {},
   "outputs": [],
   "source": [
    "print(f\"topics.shape: {topics.shape}\")\n",
    "print(f\"content.shape: {content.shape}\")\n",
    "print(f\"correlations.shape: {correlations.shape}\")"
   ]
  },
  {
   "cell_type": "code",
   "execution_count": null,
   "id": "08bb4f81-50ea-4922-8121-0eadf09436d9",
   "metadata": {},
   "outputs": [],
   "source": [
    "topics"
   ]
  },
  {
   "cell_type": "code",
   "execution_count": null,
   "id": "8688ec30-9cb6-4926-9480-b2b156004d80",
   "metadata": {},
   "outputs": [],
   "source": [
    "content"
   ]
  },
  {
   "cell_type": "code",
   "execution_count": null,
   "id": "ddfc880b-0d84-47d9-b4db-f1eb61e691ac",
   "metadata": {},
   "outputs": [],
   "source": [
    "# clean text\n",
    "from textblob import TextBlob\n",
    "import re\n",
    "import string\n",
    "\n",
    "\n",
    "def decontracted(phrase):\n",
    "\n",
    "    # Specific\n",
    "    phrase = re.sub(r\"won't\", \"will not\", phrase)\n",
    "    phrase = re.sub(r\"can\\'t\", \"can not\", phrase)\n",
    "    # ..\n",
    "\n",
    "    # General\n",
    "    phrase = re.sub(r\"n\\'t\", \" not\", phrase)\n",
    "    phrase = re.sub(r\"\\'re\", \" are\", phrase)\n",
    "    phrase = re.sub(r\"\\'s\", \" is\", phrase)\n",
    "    phrase = re.sub(r\"\\'d\", \" would\", phrase)\n",
    "    phrase = re.sub(r\"\\'ll\", \" will\", phrase)\n",
    "    phrase = re.sub(r\"\\'t\", \" not\", phrase)\n",
    "    phrase = re.sub(r\"\\'ve\", \" have\", phrase)\n",
    "    phrase = re.sub(r\"\\'m\", \" am\", phrase)\n",
    "    # ..\n",
    "\n",
    "    return phrase\n",
    "\n",
    "def remove_punctuations(text):\n",
    "    for punctuation in list(string.punctuation): text = text.replace(punctuation, '')\n",
    "    return text\n",
    "\n",
    "def clean_number(text):\n",
    "    text = re.sub(r'(\\d+)([a-zA-Z])', '\\g<1> \\g<2>', text)\n",
    "    text = re.sub(r'(\\d+) (th|st|nd|rd) ', '\\g<1>\\g<2> ', text)\n",
    "    text = re.sub(r'(\\d+),(\\d+)', '\\g<1>\\g<2>', text)\n",
    "    return text\n",
    "\n",
    "def clean_whitespace(text):\n",
    "    text = text.strip()\n",
    "    text = re.sub(r\"\\s+\", \" \", text)\n",
    "    return text\n",
    "\n",
    "def clean_repeat_words(text):\n",
    "    return re.sub(r\"(\\w*)(\\w)\\2(\\w*)\", r\"\\1\\2\\3\", text)\n",
    "\n",
    "def clean_text(text):\n",
    "    # text_blob = TextBlob(text)\n",
    "    # text = str(text_blob.correct())\n",
    "    text = str(text)\n",
    "    text = decontracted(text)\n",
    "    text = remove_punctuations(text)\n",
    "    text = clean_number(text)\n",
    "    text = clean_whitespace(text)\n",
    "    \n",
    "    return text"
   ]
  },
  {
   "cell_type": "code",
   "execution_count": null,
   "id": "0188e5b9-780d-4fda-8c00-29d6636a8561",
   "metadata": {},
   "outputs": [],
   "source": [
    "topics[\"title\"] = topics[\"title\"].apply(clean_text)\n",
    "topics[\"description\"] = topics[\"description\"].apply(clean_text)"
   ]
  },
  {
   "cell_type": "code",
   "execution_count": null,
   "id": "4b0f7171-9997-4349-a011-fa1655f7765e",
   "metadata": {},
   "outputs": [],
   "source": [
    "topics"
   ]
  },
  {
   "cell_type": "code",
   "execution_count": null,
   "id": "5873321f-7266-48c0-9318-24ff4a0456aa",
   "metadata": {},
   "outputs": [],
   "source": [
    "content[\"title\"] = content[\"title\"].apply(clean_text)\n",
    "content[\"description\"] = content[\"description\"].apply(clean_text)\n",
    "content[\"text\"] = content[\"text\"].apply(clean_text)"
   ]
  },
  {
   "cell_type": "code",
   "execution_count": null,
   "id": "bdfa9273-c189-4d48-a3b5-e91763d14783",
   "metadata": {},
   "outputs": [],
   "source": [
    "content"
   ]
  },
  {
   "cell_type": "code",
   "execution_count": null,
   "id": "16f32f54-e9ac-4ed0-9e20-f21baabbcdf1",
   "metadata": {},
   "outputs": [],
   "source": [
    "topics.merge(correlations, how = 'inner', left_on = ['id'], right_on = ['topic_id'])"
   ]
  },
  {
   "cell_type": "code",
   "execution_count": null,
   "id": "e98d0612-4c55-4f83-82de-8a971d6d23dc",
   "metadata": {},
   "outputs": [],
   "source": [
    "# \"<s_title>\" + topics[\"title\"] + \"</s_title>\" + \"<s_description>\" + topics[\"description\"] + \"</s_description>\"\n",
    "correlations"
   ]
  },
  {
   "cell_type": "code",
   "execution_count": null,
   "id": "8d6ba555-40a1-4862-a466-a7235693f486",
   "metadata": {},
   "outputs": [],
   "source": [
    "# add not correlations: get from kaggle\n",
    "all_correlations = pd.read_csv(\"train.csv\")"
   ]
  },
  {
   "cell_type": "code",
   "execution_count": null,
   "id": "7ad02c31-3c7c-4925-ba69-a9614c8d82e4",
   "metadata": {},
   "outputs": [],
   "source": [
    "all_correlations"
   ]
  },
  {
   "cell_type": "code",
   "execution_count": null,
   "id": "a1113224-82bd-4214-8961-6087efa631cc",
   "metadata": {},
   "outputs": [],
   "source": [
    "[f\"<|kind_{l}|>\" for l in set(content.kind.values)]"
   ]
  },
  {
   "cell_type": "code",
   "execution_count": null,
   "id": "32848194-2943-4482-b75e-63e7dc688933",
   "metadata": {},
   "outputs": [],
   "source": [
    "from tqdm import tqdm\n",
    "# preprocess topic first\n",
    "topic_dict = {}\n",
    "for i, (index, row) in tqdm(enumerate(topics.iterrows())):\n",
    "    text = \"<|topic|>\" + f\"<|lang_{row['language']}|>\" + f\"<|category_{row['category']}|>\" + f\"<|level_{row['level']}|>\"\n",
    "    text += \"<s_title>\" + row[\"title\"] + \"</s_title>\" + \"<s_description>\" + row[\"description\"] + \"</s_description>\"\n",
    "    topic_dict[row[\"id\"]] = text"
   ]
  },
  {
   "cell_type": "code",
   "execution_count": null,
   "id": "dcd44fb7-b22f-41a0-9b9a-d46e44b13555",
   "metadata": {},
   "outputs": [],
   "source": [
    "# preprocess content\n",
    "content_dict = {}\n",
    "for i, (index, row) in tqdm(enumerate(content.iterrows())):\n",
    "    text = \"<|content|>\" + f\"<|lang_{row['language']}|>\" + f\"<|kind_{row['kind']}|>\"\n",
    "    text += \"<s_title>\" + row[\"title\"] + \"</s_title>\" + \"<s_description>\" + row[\"description\"] + \"</s_description>\" + \"<s_text>\" + row[\"text\"] + \"</s_text>\"\n",
    "    content_dict[row[\"id\"]] = text"
   ]
  },
  {
   "cell_type": "code",
   "execution_count": null,
   "id": "b9423ccc-1ce6-4b13-9ddf-9e7b521c6f08",
   "metadata": {},
   "outputs": [],
   "source": [
    "all_correlations[\"topic_text\"] = all_correlations[\"topics_ids\"].apply(lambda x: topic_dict[x][:2048])\n",
    "all_correlations[\"content_text\"] = all_correlations[\"content_ids\"].apply(lambda x: content_dict[x][:2048])"
   ]
  },
  {
   "cell_type": "code",
   "execution_count": null,
   "id": "27801161-b675-45db-bb4d-5ffb4e356a6b",
   "metadata": {},
   "outputs": [],
   "source": [
    "all_correlations"
   ]
  },
  {
   "cell_type": "code",
   "execution_count": null,
   "id": "55a02796-83db-456c-ad00-bff66ae3c297",
   "metadata": {},
   "outputs": [],
   "source": [
    "all_topic_ids = list(set(all_correlations.topics_ids))\n",
    "len(all_topic_ids)"
   ]
  },
  {
   "cell_type": "code",
   "execution_count": null,
   "id": "572cb4e0-5c8e-4482-a443-d0f15ec0ee39",
   "metadata": {},
   "outputs": [],
   "source": [
    "import random\n",
    "random.seed(42)\n",
    "\n",
    "fold_dict = {}\n",
    "N = 6152\n",
    "random.shuffle(all_topic_ids)\n",
    "\n",
    "for i in range(10):\n",
    "    keys = all_topic_ids[i * N : (i + 1) * N]\n",
    "    for k in keys:\n",
    "        fold_dict[k] = i"
   ]
  },
  {
   "cell_type": "code",
   "execution_count": null,
   "id": "4ca3fe37-6887-412f-9fe8-408dd2f0a90b",
   "metadata": {},
   "outputs": [],
   "source": [
    "all_correlations[\"fold\"] = all_correlations[\"topics_ids\"].map(fold_dict)"
   ]
  },
  {
   "cell_type": "code",
   "execution_count": null,
   "id": "6d054ed1-2a1c-4b54-8de4-36676ff569fa",
   "metadata": {},
   "outputs": [],
   "source": [
    "# all_correlations = all_correlations.drop(columns=[\"title1\", \"title2\"])"
   ]
  },
  {
   "cell_type": "code",
   "execution_count": null,
   "id": "fd4f0305-b24c-467d-8246-51930d784cd3",
   "metadata": {},
   "outputs": [],
   "source": [
    "all_correlations.to_csv(\"siamese_train.csv\")"
   ]
  },
  {
   "cell_type": "code",
   "execution_count": null,
   "id": "c18aa0b6-009d-4538-9a77-77b7b20a50ef",
   "metadata": {},
   "outputs": [],
   "source": []
  },
  {
   "cell_type": "code",
   "execution_count": null,
   "id": "c329190d-00ee-480d-98fb-5c9ff49548b0",
   "metadata": {},
   "outputs": [],
   "source": []
  },
  {
   "cell_type": "code",
   "execution_count": null,
   "id": "e4c61597-5daa-4a99-8d8d-37a0b564da9d",
   "metadata": {},
   "outputs": [],
   "source": []
  },
  {
   "cell_type": "code",
   "execution_count": null,
   "id": "d6ccf8af-ad0c-496f-bead-3c127ec9e6c6",
   "metadata": {},
   "outputs": [],
   "source": []
  },
  {
   "cell_type": "code",
   "execution_count": null,
   "id": "d339f97a-4b8c-45b3-8049-be8a1acdc3f5",
   "metadata": {},
   "outputs": [],
   "source": []
  }
 ],
 "metadata": {
  "kernelspec": {
   "display_name": "Python 3 (ipykernel)",
   "language": "python",
   "name": "python3"
  },
  "language_info": {
   "codemirror_mode": {
    "name": "ipython",
    "version": 3
   },
   "file_extension": ".py",
   "mimetype": "text/x-python",
   "name": "python",
   "nbconvert_exporter": "python",
   "pygments_lexer": "ipython3",
   "version": "3.8.0"
  }
 },
 "nbformat": 4,
 "nbformat_minor": 5
}
